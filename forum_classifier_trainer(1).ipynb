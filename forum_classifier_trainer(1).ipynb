{
 "cells": [
  {
   "cell_type": "code",
   "execution_count": 42,
   "id": "5884abfa",
   "metadata": {},
   "outputs": [
    {
     "name": "stdout",
     "output_type": "stream",
     "text": [
      "/Users/mayaechtinaw/Documents/forum-classifier-python\n"
     ]
    },
    {
     "name": "stderr",
     "output_type": "stream",
     "text": [
      "[nltk_data] Downloading package stopwords to\n",
      "[nltk_data]     /Users/mayaechtinaw/nltk_data...\n",
      "[nltk_data]   Package stopwords is already up-to-date!\n",
      "[nltk_data] Downloading package punkt to\n",
      "[nltk_data]     /Users/mayaechtinaw/nltk_data...\n",
      "[nltk_data]   Package punkt is already up-to-date!\n",
      "[nltk_data] Downloading package wordnet to\n",
      "[nltk_data]     /Users/mayaechtinaw/nltk_data...\n",
      "[nltk_data]   Package wordnet is already up-to-date!\n",
      "[nltk_data] Downloading package omw-1.4 to\n",
      "[nltk_data]     /Users/mayaechtinaw/nltk_data...\n",
      "[nltk_data]   Package omw-1.4 is already up-to-date!\n",
      "[nltk_data] Downloading package words to\n",
      "[nltk_data]     /Users/mayaechtinaw/nltk_data...\n",
      "[nltk_data]   Package words is already up-to-date!\n"
     ]
    }
   ],
   "source": [
    "import pandas as pd\n",
    "import numpy as np\n",
    "import csv\n",
    "import os\n",
    "import re\n",
    "import nltk\n",
    "import itertools\n",
    "import contractions\n",
    "\n",
    "nltk.download('stopwords')\n",
    "nltk.download('punkt')\n",
    "nltk.download('wordnet')\n",
    "nltk.download('omw-1.4')\n",
    "nltk.download('words')\n",
    "\n",
    "from nltk.corpus import stopwords\n",
    "from nltk.tokenize import word_tokenize\n",
    "from nltk.stem import PorterStemmer, WordNetLemmatizer\n",
    "from nltk.metrics.distance import edit_distance\n",
    "from nltk.corpus import words\n",
    "\n",
    "from sklearn.model_selection import train_test_split\n",
    "from sklearn.feature_extraction.text import TfidfVectorizer\n",
    "from sklearn.naive_bayes import MultinomialNB\n",
    "from sklearn.metrics import classification_report\n",
    "from sklearn.metrics import confusion_matrix\n",
    "\n",
    "from spellchecker import SpellChecker\n",
    "\n",
    "import matplotlib.pyplot as plt\n",
    "import seaborn as sns\n",
    "\n",
    "#os.chdir('Documents/forum-classifier-python')\n",
    "print(os.getcwd())"
   ]
  },
  {
   "cell_type": "code",
   "execution_count": 43,
   "id": "9fe49edf",
   "metadata": {},
   "outputs": [
    {
     "name": "stdout",
     "output_type": "stream",
     "text": [
      "                                             content  product\n",
      "0  Well..I \"had fixed\" the exhaust manifold\\n, th...  Chassis\n",
      "1  It's always something with these toys. I had t...  Chassis\n",
      "2  Got temp plates on Friday, passed emissions on...  Chassis\n",
      "3  I've started looking into replacing shocks and...  Chassis\n",
      "4  Quote:\\nOriginally Posted by iamblum\\nI've sta...  Chassis\n"
     ]
    }
   ],
   "source": [
    "data = pd.read_csv('new_large_data.csv', encoding='latin1')\n",
    "print(data.head())"
   ]
  },
  {
   "cell_type": "code",
   "execution_count": 44,
   "id": "8a878855",
   "metadata": {},
   "outputs": [],
   "source": [
    "contractions = {\n",
    "    \"ain't\": \"am not / are not\",\n",
    "    \"aren't\": \"are not / am not\",\n",
    "    \"can't\": \"cannot\",\n",
    "    \"can't've\": \"cannot have\",\n",
    "    \"'cause\": \"because\",\n",
    "    \"could've\": \"could have\",\n",
    "    \"couldn't\": \"could not\",\n",
    "    \"couldn't've\": \"could not have\",\n",
    "    \"didn't\": \"did not\",\n",
    "    \"doesn't\": \"does not\",\n",
    "    \"don't\": \"do not\",\n",
    "    \"hadn't\": \"had not\",\n",
    "    \"hadn't've\": \"had not have\",\n",
    "    \"hasn't\": \"has not\",\n",
    "    \"haven't\": \"have not\",\n",
    "    \"he'd\": \"he had / he would\",\n",
    "    \"he'd've\": \"he would have\",\n",
    "    \"he'll\": \"he shall / he will\",\n",
    "    \"he'll've\": \"he shall have / he will have\",\n",
    "    \"he's\": \"he has / he is\",\n",
    "    \"how'd\": \"how did\",\n",
    "    \"how'd'y\": \"how do you\",\n",
    "    \"how'll\": \"how will\",\n",
    "    \"how's\": \"how has / how is\",\n",
    "    \"I'd\": \"I had / I would\",\n",
    "    \"I'd've\": \"I would have\",\n",
    "    \"I'll\": \"I shall / I will\",\n",
    "    \"I'll've\": \"I shall have / I will have\",\n",
    "    \"I'm\": \"I am\",\n",
    "    \"I've\": \"I have\",\n",
    "    \"isn't\": \"is not\",\n",
    "    \"it'd\": \"it had / it would\",\n",
    "    \"it'd've\": \"it would have\",\n",
    "    \"it'll\": \"it shall / it will\",\n",
    "    \"it'll've\": \"it shall have / it will have\",\n",
    "    \"it's\": \"it has / it is\",\n",
    "    \"let's\": \"let us\",\n",
    "    \"ma'am\": \"madam\",\n",
    "    \"mayn't\": \"may not\",\n",
    "    \"might've\": \"might have\",\n",
    "    \"mightn't\": \"might not\",\n",
    "    \"mightn't've\": \"might not have\",\n",
    "    \"must've\": \"must have\",\n",
    "    \"mustn't\": \"must not\",\n",
    "    \"mustn't've\": \"must not have\",\n",
    "    \"needn't\": \"need not\",\n",
    "    \"needn't've\": \"need not have\",\n",
    "    \"o'clock\": \"of the clock\",\n",
    "    \"oughtn't\": \"ought not\",\n",
    "    \"oughtn't've\": \"ought not have\",\n",
    "    \"shan't\": \"shall not\",\n",
    "    \"sha'n't\": \"shall not\",\n",
    "    \"shan't've\": \"shall not have\",\n",
    "    \"she'd\": \"she had / she would\",\n",
    "    \"she'd've\": \"she would have\",\n",
    "    \"she'll\": \"she shall / she will\",\n",
    "    \"she'll've\": \"she shall have / she will have\",\n",
    "    \"she's\": \"she has / she is\",\n",
    "    \"should've\": \"should have\",\n",
    "    \"shouldn't\": \"should not\",\n",
    "    \"shouldn't've\": \"should not have\",\n",
    "    \"so've\": \"so have\",\n",
    "    \"so's\": \"so as / so is\",\n",
    "    \"that'd\": \"that would / that had\",\n",
    "    \"that'd've\": \"that would have\",\n",
    "    \"that's\": \"that has / that is\",\n",
    "    \"there'd\": \"there had / there would\",\n",
    "    \"there'd've\": \"there would have\",\n",
    "    \"there's\": \"there has / there is\",\n",
    "    \"they'd\": \"they had / they would\",\n",
    "    \"they'd've\": \"they would have\",\n",
    "    \"they'll\": \"they shall / they will\",\n",
    "    \"they'll've\": \"they shall have / they will have\",\n",
    "    \"they're\": \"they are\",\n",
    "    \"they've\": \"they have\",\n",
    "    \"to've\": \"to have\",\n",
    "    \"wasn't\": \"was not\",\n",
    "    \"we'd\": \"we had / we would\",\n",
    "    \"we'd've\": \"we would have\",\n",
    "    \"we'll\": \"we will\",\n",
    "    \"we'll've\": \"we will have\",\n",
    "    \"we're\": \"we are\",\n",
    "    \"we've\": \"we have\",\n",
    "    \"weren't\": \"were not\",\n",
    "    \"what'll\": \"what shall / what will\",\n",
    "    \"what'll've\": \"what shall have / what will have\",\n",
    "    \"what're\": \"what are\",\n",
    "    \"what's\": \"what has / what is\",\n",
    "    \"what've\": \"what have\",\n",
    "    \"when's\": \"when has / when is\",\n",
    "    \"when've\": \"when have\",\n",
    "    \"where'd\": \"where did\",\n",
    "    \"where's\": \"where has / where is\",\n",
    "    \"where've\": \"where have\",\n",
    "    \"who'll\": \"who shall / who will\",\n",
    "    \"who'll've\": \"who shall have / who will have\",\n",
    "    \"who's\": \"who has / who is\",\n",
    "    \"who've\": \"who have\",\n",
    "    \"why's\": \"why has / why is\",\n",
    "    \"why've\": \"why have\",\n",
    "    \"will've\": \"will have\",\n",
    "    \"won't\": \"will not\",\n",
    "    \"won't've\": \"will not have\",\n",
    "    \"would've\": \"would have\",\n",
    "    \"wouldn't\": \"would not\",\n",
    "    \"wouldn't've\": \"would not have\",\n",
    "    \"y'all\": \"you all\",\n",
    "    \"y'alls\": \"you alls\",\n",
    "    \"y'all'd\": \"you all would\",\n",
    "    \"y'all'd've\": \"you all would have\",\n",
    "    \"y'all're\": \"you all are\",\n",
    "    \"y'all've\": \"you all have\",\n",
    "    \"you'd\": \"you had / you would\",\n",
    "    \"you'd've\": \"you would have\",\n",
    "    \"you'll\": \"you shall / you will\",\n",
    "    \"you'll've\": \"you shall have / you will have\",\n",
    "    \"you're\": \"you are\",\n",
    "    \"you've\": \"you have\"\n",
    "}"
   ]
  },
  {
   "cell_type": "code",
   "execution_count": 45,
   "id": "362fa3af",
   "metadata": {},
   "outputs": [],
   "source": [
    "contraction_pattern = re.compile(r'\\b(' + '|'.join(contractions.keys()) + r')\\b')\n",
    "\n",
    "def expand_contractions(text, contraction_mapping=contractions):\n",
    "    def expand_match(contraction):\n",
    "        match = contraction.group(0)\n",
    "        expanded_contraction = contraction_mapping.get(match)\n",
    "        if not expanded_contraction:\n",
    "            expanded_contraction = contraction_mapping.get(match.lower())\n",
    "        return expanded_contraction\n",
    "\n",
    "    expanded_text = contraction_pattern.sub(expand_match, text)\n",
    "    return expanded_text"
   ]
  },
  {
   "cell_type": "code",
   "execution_count": 46,
   "id": "9b37159e",
   "metadata": {},
   "outputs": [],
   "source": [
    "def removeWord(text, word):\n",
    "    return text.replace(word, '')\n",
    "\n",
    "def removeURL(text):\n",
    "    url_pattern = re.compile(r'https://\\S+|www\\.\\S+')\n",
    "    return url_pattern.sub(r'', text)\n",
    "\n",
    "def removeHTML(text):\n",
    "    html_tags_pattern = r'<.*?>'\n",
    "    return re.sub(html_tags_pattern, '', text)"
   ]
  },
  {
   "cell_type": "code",
   "execution_count": 47,
   "id": "c7ac345d",
   "metadata": {},
   "outputs": [],
   "source": [
    "def preprocessText(text):\n",
    "    stop_words = set(stopwords.words('english'))  # Define stop words\n",
    "    stemmer = PorterStemmer()  # Define stemmer\n",
    "    lemmatizer = WordNetLemmatizer()  # Define lemmatizer\n",
    "    spell = SpellChecker()  # Define spell checker\n",
    "    text['content'] = text['content'].apply(expand_contractions)  # Apply contraction expansion\n",
    "    text['content'] = text['content'].apply(lambda x: removeURL(x))  # Remove URLs\n",
    "    text['content'] = text['content'].apply(lambda x: removeHTML(x))  # Remove HTML tags\n",
    "    text['content'] = text['content'].str.lower()  # Lowercase all words\n",
    "    text['content'] = text['content'].apply(lambda x: re.sub(r'[^a-zA-Z0-9 \\s]', ' ', x))  # Remove special characters\n",
    "    text['content'] = text['content'].apply(lambda x: removeWord(x, 'quote'))\n",
    "    text['content'] = text['content'].str.split().map(lambda sl: \" \".join(s for s in sl if len(s) > 2))  # Remove words with length < 2\n",
    "\n",
    "    \n",
    "    text['tokenized'] = text.apply(lambda row: nltk.word_tokenize(row['content']), axis=1)  # Tokenizing\n",
    "    text['tokenized'] = text['tokenized'].apply(lambda x: [item for item in x if item not in stop_words])  # Remove stop words\n",
    "    text['tokenized'] = text['tokenized'].apply(lambda x: [stemmer.stem(y) for y in x])  # Stemming\n",
    "    text['tokenized'] = text['tokenized'].apply(lambda x: [lemmatizer.lemmatize(y) for y in x])  # Lemmatizing\n",
    "    text['clean_string'] = text['tokenized'].str.join(' ')  # De-tokenizes string\n",
    "    return text"
   ]
  },
  {
   "cell_type": "code",
   "execution_count": 48,
   "id": "98f694c8",
   "metadata": {},
   "outputs": [
    {
     "name": "stdout",
     "output_type": "stream",
     "text": [
      "0       well had fixed the exhaust manifold the exhaus...\n",
      "1       always something with these toys had the banks...\n",
      "2       got temp plates friday passed emissions friday...\n",
      "3       have started looking into replacing shocks and...\n",
      "4       originally posted iamblum have started looking...\n",
      "                              ...                        \n",
      "1062    our the baggage doors have been getting harder...\n",
      "1063    good work tom one the first things did was adj...\n",
      "1064    never had side baggage doors until current uni...\n",
      "1065    cargo door locks won open had the dutch star f...\n",
      "1066    don have newmar but winnabego sometimes have p...\n",
      "Name: content, Length: 1067, dtype: object\n"
     ]
    }
   ],
   "source": [
    "data = preprocessText(data)\n",
    "print(data['content'])"
   ]
  },
  {
   "cell_type": "code",
   "execution_count": 49,
   "id": "0d9892e1",
   "metadata": {},
   "outputs": [],
   "source": [
    "relevant_products = [ 'Door Locks and Parts', 'Exterior', 'Hardware', 'Heating and Cooling',\n",
    "                    'Lights', 'Plumbing and Water', 'Wiper Parts', 'Adhesives, Sealants, and Cleaners', 'Winterizing',\n",
    "                    'Interior']\n",
    "data = data[data['product'].isin(relevant_products)]\n",
    "\n",
    "product_mapping = {\n",
    "    'Chassis': 0,\n",
    "    'Door Locks and Parts': 1,\n",
    "    'Electrical': 2,\n",
    "    'Exterior': 3,\n",
    "    'Hardware': 4,\n",
    "    'Heating and Cooling': 5,\n",
    "    'Lights': 6,\n",
    "    'Plumbing and Water': 7,\n",
    "    'Wiper Parts': 8,\n",
    "    'Adhesives, Sealants, and Cleaners': 9,\n",
    "    'Winterizing': 10,\n",
    "    'Interior': 11\n",
    "}"
   ]
  },
  {
   "cell_type": "code",
   "execution_count": 50,
   "id": "5730d3e0",
   "metadata": {},
   "outputs": [
    {
     "name": "stdout",
     "output_type": "stream",
     "text": [
      "                                              content             product  \\\n",
      "24  today removed carefree slide out cover and rev...            Exterior   \n",
      "25  well always seem doing something minor just sp...  Plumbing and Water   \n",
      "40  while getting ready for our first trip with ou...            Hardware   \n",
      "45  our door power awning stopped working determin...            Exterior   \n",
      "48     replaced the pawls our 2008 tow dolly ratchets            Hardware   \n",
      "\n",
      "                                            tokenized  \\\n",
      "24  [today, remov, carefre, slide, cover, revers, ...   \n",
      "25  [well, alway, seem, someth, minor, spend, time...   \n",
      "40  [get, readi, first, trip, new, load, readi, mo...   \n",
      "45  [door, power, awn, stop, work, determin, awn, ...   \n",
      "48          [replac, pawl, 2008, tow, dolli, ratchet]   \n",
      "\n",
      "                                         clean_string  label  \n",
      "24  today remov carefre slide cover revers small t...      3  \n",
      "25  well alway seem someth minor spend time latest...      7  \n",
      "40  get readi first trip new load readi morn ahh m...      4  \n",
      "45  door power awn stop work determin awn shaft at...      3  \n",
      "48                 replac pawl 2008 tow dolli ratchet      4  \n"
     ]
    }
   ],
   "source": [
    "data['label'] = data['product'].apply(lambda x: product_mapping[x])\n",
    "print(data.head())"
   ]
  },
  {
   "cell_type": "code",
   "execution_count": 51,
   "id": "cee348c8",
   "metadata": {},
   "outputs": [],
   "source": [
    "X = data['content']\n",
    "y = data['label']\n",
    "\n",
    "X_train, X_test, y_train, y_test = train_test_split(X, y, test_size=0.2, random_state=42)"
   ]
  },
  {
   "cell_type": "code",
   "execution_count": 52,
   "id": "03bfe3a7",
   "metadata": {},
   "outputs": [],
   "source": [
    "vectorizer = TfidfVectorizer(stop_words='english', max_features=10000)\n",
    "X_train_vect = vectorizer.fit_transform(X_train)\n",
    "X_test_vect = vectorizer.transform(X_test)"
   ]
  },
  {
   "cell_type": "code",
   "execution_count": 53,
   "id": "293cb92a",
   "metadata": {},
   "outputs": [
    {
     "data": {
      "text/plain": [
       "MultinomialNB()"
      ]
     },
     "execution_count": 53,
     "metadata": {},
     "output_type": "execute_result"
    }
   ],
   "source": [
    "classifier = MultinomialNB()\n",
    "classifier.fit(X_train_vect, y_train)"
   ]
  },
  {
   "cell_type": "code",
   "execution_count": 54,
   "id": "f37ac20d",
   "metadata": {},
   "outputs": [],
   "source": [
    "y_pred = classifier.predict(X_test_vect)"
   ]
  },
  {
   "cell_type": "code",
   "execution_count": 55,
   "id": "ddebd13f",
   "metadata": {},
   "outputs": [
    {
     "name": "stdout",
     "output_type": "stream",
     "text": [
      "                                   precision    recall  f1-score   support\n",
      "\n",
      "                          Chassis       0.62      0.89      0.73         9\n",
      "             Door Locks and Parts       0.54      0.88      0.67        16\n",
      "                       Electrical       1.00      0.47      0.64        15\n",
      "                         Exterior       0.93      1.00      0.96        13\n",
      "                         Hardware       0.71      0.94      0.81        18\n",
      "              Heating and Cooling       1.00      0.84      0.91        19\n",
      "                           Lights       0.92      0.80      0.86        15\n",
      "               Plumbing and Water       1.00      0.62      0.76        13\n",
      "                      Wiper Parts       1.00      0.73      0.84        11\n",
      "\n",
      "                         accuracy                           0.80       129\n",
      "                        macro avg       0.86      0.80      0.80       129\n",
      "                     weighted avg       0.86      0.80      0.80       129\n",
      "\n"
     ]
    },
    {
     "name": "stderr",
     "output_type": "stream",
     "text": [
      "/Users/mayaechtinaw/opt/anaconda3/lib/python3.9/site-packages/sklearn/metrics/_classification.py:2126: UserWarning: labels size, 9, does not match size of target_names, 12\n",
      "  warnings.warn(\n"
     ]
    }
   ],
   "source": [
    "labels = sorted(set(y_test).union(set(y_pred)))\n",
    "\n",
    "# Define the target_names using the keys of product_mapping\n",
    "target_names = list(product_mapping.keys())\n",
    "\n",
    "# Print the classification report with explicitly specified labels and target names\n",
    "print(classification_report(y_test, y_pred, labels=labels, target_names=target_names))"
   ]
  },
  {
   "cell_type": "code",
   "execution_count": 56,
   "id": "d913fce9",
   "metadata": {},
   "outputs": [
    {
     "data": {
      "image/png": "[encoded data removed]",
      "text/plain": [
       "<Figure size 1000x700 with 2 Axes>"
      ]
     },
     "metadata": {},
     "output_type": "display_data"
    }
   ],
   "source": [
    "cm = confusion_matrix(y_test, y_pred)\n",
    "plt.figure(figsize=(10,7))\n",
    "sns.heatmap(cm, annot=True, fmt='d', cmap='Reds', xticklabels=product_mapping.keys(), yticklabels=product_mapping.keys())\n",
    "plt.xlabel('Predicted')\n",
    "plt.ylabel('Actual')\n",
    "plt.title('Confusion Matrix')\n",
    "plt.show()"
   ]
  },
  {
   "cell_type": "code",
   "execution_count": 58,
   "id": "b0c079e3",
   "metadata": {},
   "outputs": [],
   "source": [
    "import pickle\n",
    "\n",
    "with open('trained_classifier.pkl', 'wb') as file:\n",
    "    pickle.dump(vectorizer, file)\n",
    "    pickle.dump(classifier, file)"
   ]
  },
  {
   "cell_type": "code",
   "execution_count": null,
   "id": "67e4eb30",
   "metadata": {},
   "outputs": [],
   "source": []
  }
 ],
 "metadata": {
  "kernelspec": {
   "display_name": "Python 3 (ipykernel)",
   "language": "python",
   "name": "python3"
  },
  "language_info": {
   "codemirror_mode": {
    "name": "ipython",
    "version": 3
   },
   "file_extension": ".py",
   "mimetype": "text/x-python",
   "name": "python",
   "nbconvert_exporter": "python",
   "pygments_lexer": "ipython3",
   "version": "3.9.13"
  }
 },
 "nbformat": 4,
 "nbformat_minor": 5
}
